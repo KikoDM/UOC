{
 "cells": [
  {
   "cell_type": "code",
   "execution_count": 1,
   "id": "c1db935d",
   "metadata": {},
   "outputs": [],
   "source": [
    "#importamos las librerías necesarias\n",
    "from keras.models import load_model\n",
    "import json\n",
    "import random\n",
    "import pickle\n",
    "import spacy\n",
    "import re\n",
    "import numpy as np"
   ]
  },
  {
   "cell_type": "code",
   "execution_count": 2,
   "id": "f3f07872",
   "metadata": {},
   "outputs": [],
   "source": [
    "#Importamos el modelo generado, el archivo de intenciones, y los archivos de lemas y etiquetas creados con el modelo\n",
    "#También cargamos el vocabulario de Spacy para tratar las entradas, así com las stopwords\n",
    "model = load_model(\"jackBot_model.h5\")\n",
    "file = open('intents.json',encoding = 'utf-8').read()\n",
    "intents = json.loads(file)\n",
    "lemmas = pickle.load(open(\"lemmas.pkl\",\"rb\"))\n",
    "etiquetas = pickle.load(open(\"etiquetas.pkl\",\"rb\"))\n",
    "nlp = spacy.load(r'C:\\Users\\fdome\\AppData\\Local\\Programs\\Python\\Python39\\Lib\\site-packages\\es_core_news_lg\\es_core_news_lg-3.4.0')\n",
    "stops = ['a','yo','tu','el', 'nosotros', 'vosotros', 'ellos', 'me', 'mi', 'te', 'ti', 'la', 'los', 'las', 'y', 'o', 'al','del']"
   ]
  },
  {
   "cell_type": "code",
   "execution_count": 3,
   "id": "422afa47",
   "metadata": {},
   "outputs": [],
   "source": [
    "#Realizamos el tratamiento inicial de la frase introducida por el usuario\n",
    "#Eliminamos carácteres no deseados, acentos, pasamos a minúsculas y generamos los lemas\n",
    "def lemmatize_input(frase):\n",
    "     w=re.sub(r'[¿]', \"\", frase)\n",
    "     w=re.sub(r'\\W+', \" \", w)\n",
    "     w=w.lower()\n",
    "     w=re.sub('á', 'a', w)\n",
    "     w=re.sub('é', 'e', w)\n",
    "     w=re.sub('í', 'i', w)\n",
    "     w=re.sub('ó', 'o', w)\n",
    "     w=re.sub(r'[üú]', 'u', w)\n",
    "     doc = nlp(w)\n",
    "     words=[]\n",
    "     for token in doc:\n",
    "        if token.text not in stops:\n",
    "            words.append(token.lemma_)\n",
    "     return words\n"
   ]
  },
  {
   "cell_type": "code",
   "execution_count": 4,
   "id": "14231aed",
   "metadata": {},
   "outputs": [],
   "source": [
    "#Creamos la bolsa de palabras de la frase del usuario\n",
    "def bow_f(frase, lemmas):\n",
    "    lemma_frase = lemmatize_input(frase)\n",
    "    bow = [0]*len(lemmas)\n",
    "    for f in lemma_frase:\n",
    "        for i,j in enumerate(lemmas):\n",
    "            if j == f:\n",
    "                bow[i]=1\n",
    "    return(np.array(bow))\n"
   ]
  },
  {
   "cell_type": "code",
   "execution_count": 5,
   "id": "0ae05aec",
   "metadata": {},
   "outputs": [],
   "source": [
    "#Realizamos la predicción de la etiqueta que corresponde a la frase del usuario y pasamos la lista de posibilidades ordenadas\n",
    "def predict_label(frase,model):\n",
    "    b = bow_f(frase, lemmas)\n",
    "    res = model.predict(np.array([b]))[0]\n",
    "    ERROR_THRESHOLD = 0.25\n",
    "    results = [[i,r] for i,r in enumerate(res) if r>ERROR_THRESHOLD]\n",
    "    results.sort(key=lambda x: x[1], reverse=True)\n",
    "    return_list = []\n",
    "    for r in results:\n",
    "        return_list.append({\"intent\": etiquetas[r[0]], \"probability\": str(r[1])})\n",
    "    return return_list"
   ]
  },
  {
   "cell_type": "code",
   "execution_count": 6,
   "id": "93e47307",
   "metadata": {},
   "outputs": [],
   "source": [
    "#Segun la etiqueta seleccionada, escogemos la respuesta aleatoriamente de las disponibles en el archivo dado\n",
    "def select_answer(predicted, real):\n",
    "    etiqueta = predicted[0]['intent']\n",
    "    listado_etiquetas = real['intents']\n",
    "    for i in listado_etiquetas:\n",
    "        if (i['etiqueta']==etiqueta):\n",
    "            resultado = random.choice(i['respuestas'])\n",
    "            break\n",
    "    return resultado"
   ]
  },
  {
   "cell_type": "code",
   "execution_count": 7,
   "id": "656a5e7e",
   "metadata": {},
   "outputs": [],
   "source": [
    "#Damos la respuesta final comprobamos si la etiqueta es repetir, se devuelve la etiqueta de la anterior interacción\n",
    "#Si la respuesta no existe por no alcanzar el porcentaje mínimo de similitud se solicita una nueva interacción\n",
    "def answer(frase):\n",
    "    global previo\n",
    "    predicted = predict_label(frase, model)\n",
    "    if(predicted):\n",
    "        if(predicted[0]['intent']=='repetir'):\n",
    "            predicted[0]['intent']=previo\n",
    "            resultado = select_answer(predicted,intents)\n",
    "        else:\n",
    "            resultado = select_answer(predicted,intents)\n",
    "            previo = predicted[0]['intent']\n",
    "    else:\n",
    "        resultado = \"No te he entendido. Indícamelo de otro modo\"\n",
    "        \n",
    "    return resultado"
   ]
  },
  {
   "cell_type": "code",
   "execution_count": 8,
   "id": "adcf99de",
   "metadata": {},
   "outputs": [],
   "source": [
    "#Creamos la ventana de interacción con el usuario \n",
    "import tkinter\n",
    "from tkinter import *\n",
    "previo=\"123\"\n",
    "\n",
    "#Definimos la interacción \n",
    "def send(event):\n",
    "    \n",
    "    msg = EntryBox.get(\"1.0\",'end-1c').strip()\n",
    "    EntryBox.delete(\"0.0\",END)\n",
    "    \n",
    "    if msg != '':\n",
    "        ChatLog.config(state=NORMAL)\n",
    "        ChatLog.insert(END, \"Humano: \" + msg + '\\n\\n')\n",
    "        ChatLog.config(foreground=\"#442265\", font=(\"Arial\", 12 ))\n",
    "        \n",
    "        res = answer(msg)\n",
    "        ChatLog.insert(END, \"JackBot: \"+ res + '\\n\\n')\n",
    "        \n",
    "\n",
    "        ChatLog.config(state=DISABLED)\n",
    "        ChatLog.yview(END)\n",
    "        \n",
    "#Creamos el entorno        \n",
    "base = Tk()\n",
    "base.title(\"JackBot The ChatBot\")\n",
    "base.geometry(\"600x500\")\n",
    "base.resizable(width=FALSE, height=FALSE)\n",
    "\n",
    "\n",
    "#Creamos la ventana de Chat con un mensaje de inicio\n",
    "ChatLog = Text(base, bd=2, bg=\"white\", height=\"8\", width=\"50\", font=\"Arial\",)\n",
    "ChatLog.insert(END,\"Hola, soy JackBot, tu compañero digital.\\nCuando quieras empezar, envíame un saludo.\\n\\n\")\n",
    "ChatLog.config(state=DISABLED)\n",
    "\n",
    "#Añadimos una barra deslizante\n",
    "scrollbar = Scrollbar(base, command=ChatLog.yview, cursor=\"heart\")\n",
    "ChatLog['yscrollcommand'] = scrollbar.set\n",
    "\n",
    "#Creamos la caja de entrada de texto con un mensaje informativo\n",
    "lbl=Label(base, text=\"Escribe lo que quieras y pulsa Intro:\", font=(\"Arial\", 10),fg=\"#262626\")\n",
    "EntryBox = Text(base, bd=2, bg=\"white\",width=\"29\", height=\"5\", font=\"Arial\", background=\"#f5f7f7\")\n",
    "EntryBox.bind('<Return>', send)\n",
    "\n",
    "\n",
    "#Situamos todos los objetos en su lugar\n",
    "scrollbar.place(x=576,y=6, height=386)\n",
    "ChatLog.place(x=6,y=6, height=386, width=570)\n",
    "EntryBox.place(x=6, y=440, height=40, width=570)\n",
    "lbl.place(x=6,y=420,height=20, width=215)"
   ]
  },
  {
   "cell_type": "code",
   "execution_count": 9,
   "id": "8c96b6ce",
   "metadata": {
    "scrolled": true
   },
   "outputs": [],
   "source": [
    "#Arrancamos el bucle que ejecutará el bot\n",
    "base.mainloop()"
   ]
  },
  {
   "cell_type": "code",
   "execution_count": null,
   "id": "72c229d9",
   "metadata": {},
   "outputs": [],
   "source": []
  },
  {
   "cell_type": "code",
   "execution_count": null,
   "id": "32a720ab",
   "metadata": {},
   "outputs": [],
   "source": []
  }
 ],
 "metadata": {
  "kernelspec": {
   "display_name": "Python 3",
   "language": "python",
   "name": "python3"
  },
  "language_info": {
   "codemirror_mode": {
    "name": "ipython",
    "version": 3
   },
   "file_extension": ".py",
   "mimetype": "text/x-python",
   "name": "python",
   "nbconvert_exporter": "python",
   "pygments_lexer": "ipython3",
   "version": "3.8.8"
  }
 },
 "nbformat": 4,
 "nbformat_minor": 5
}
